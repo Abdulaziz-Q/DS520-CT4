{
  "nbformat": 4,
  "nbformat_minor": 0,
  "metadata": {
    "colab": {
      "name": "DS520-CT4_Abdulaziz_Alqumayzi_200007615 .ipynb",
      "provenance": [],
      "collapsed_sections": [],
      "toc_visible": true
    },
    "kernelspec": {
      "display_name": "Python 3",
      "language": "python",
      "name": "python3"
    },
    "language_info": {
      "codemirror_mode": {
        "name": "ipython",
        "version": 3
      },
      "file_extension": ".py",
      "mimetype": "text/x-python",
      "name": "python",
      "nbconvert_exporter": "python",
      "pygments_lexer": "ipython3",
      "version": "3.7.6"
    }
  },
  "cells": [
    {
      "cell_type": "markdown",
      "metadata": {
        "id": "Dve9SirMyVLQ"
      },
      "source": [
        "# Critical Thinking 3 \n",
        "## Sentiment Analysis\n",
        "\n",
        "<br>\n",
        "Course Code: DS520 <br>\n",
        "Course Name: Big Data processing and Analysis <br>\n",
        "CRN: 24541 <br>\n",
        "DR. Rudra S Bandhu\n",
        "\n",
        "Student ID: G200007615 <br>\n",
        "Student Name: Abdulaziz Alqumayzi<br>\n",
        "Date: 03/04/2021\n",
        "\n",
        "\n",
        "\n",
        "\n",
        "\n",
        "\n",
        "\n"
      ]
    },
    {
      "cell_type": "code",
      "metadata": {
        "id": "udo2xzfsg7WV"
      },
      "source": [
        "!apt-get install openjdk-8-jdk-headless -qq > /dev/null\n",
        "!wget -q ftp://mirror.klaus-uwe.me/apache/spark/spark-2.4.7/spark-2.4.7-bin-hadoop2.7.tgz\n",
        "!tar xf spark-2.4.7-bin-hadoop2.7.tgz\n",
        "!pip install -q findspark"
      ],
      "execution_count": 2,
      "outputs": []
    },
    {
      "cell_type": "code",
      "metadata": {
        "id": "XIOlNLFwg7Wb"
      },
      "source": [
        "import os\n",
        "os.environ[\"JAVA_HOME\"] = \"/usr/lib/jvm/java-8-openjdk-amd64\"\n",
        "os.environ[\"SPARK_HOME\"] = \"/content/spark-2.4.7-bin-hadoop2.7\""
      ],
      "execution_count": 3,
      "outputs": []
    },
    {
      "cell_type": "markdown",
      "metadata": {
        "id": "FroPUtkFg7Wb"
      },
      "source": [
        "# Importing files here in colab:"
      ]
    },
    {
      "cell_type": "code",
      "metadata": {
        "colab": {
          "resources": {
            "http://localhost:8080/nbextensions/google.colab/files.js": {
              "data": "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",
              "ok": true,
              "headers": [
                [
                  "content-type",
                  "application/javascript"
                ]
              ],
              "status": 200,
              "status_text": ""
            }
          },
          "base_uri": "https://localhost:8080/",
          "height": 140
        },
        "id": "HvPy2gNYg7Wb",
        "outputId": "2e3be24d-b7c8-4f98-9995-43ca9f292149"
      },
      "source": [
        "## uploading train,validation and test datasets\n",
        "from google.colab import files\n",
        "uploaded = files.upload()"
      ],
      "execution_count": 4,
      "outputs": [
        {
          "output_type": "display_data",
          "data": {
            "text/html": [
              "\n",
              "     <input type=\"file\" id=\"files-27e03195-8844-43f3-a7e6-f057d4f9488e\" name=\"files[]\" multiple disabled\n",
              "        style=\"border:none\" />\n",
              "     <output id=\"result-27e03195-8844-43f3-a7e6-f057d4f9488e\">\n",
              "      Upload widget is only available when the cell has been executed in the\n",
              "      current browser session. Please rerun this cell to enable.\n",
              "      </output>\n",
              "      <script src=\"/nbextensions/google.colab/files.js\"></script> "
            ],
            "text/plain": [
              "<IPython.core.display.HTML object>"
            ]
          },
          "metadata": {
            "tags": []
          }
        },
        {
          "output_type": "stream",
          "text": [
            "Saving Test.csv to Test (1).csv\n",
            "Saving Train.csv to Train (1).csv\n",
            "Saving Valid.csv to Valid.csv\n"
          ],
          "name": "stdout"
        }
      ]
    },
    {
      "cell_type": "markdown",
      "metadata": {
        "id": "Gc8mwGqxg7Wc"
      },
      "source": [
        "# Importing needed packages:"
      ]
    },
    {
      "cell_type": "code",
      "metadata": {
        "id": "83fq_rH-g7Wc"
      },
      "source": [
        "import pandas as pd\n",
        "import findspark\n",
        "findspark.init() #Findspark package to make a Spark Context available in your Jupyter Notebook\n",
        "from pyspark.sql import SparkSession\n",
        "from pyspark.sql.functions import *\n",
        "from pyspark.ml.feature import RegexTokenizer\n",
        "import requests\n",
        "from pyspark.ml.feature import StopWordsRemover\n",
        "from pyspark.ml.feature import CountVectorizer\n",
        "from pyspark.ml.feature import IDF\n",
        "from pyspark.ml.classification import LogisticRegression\n",
        "from pyspark.ml.pipeline import Pipeline\n",
        "from pyspark.ml.evaluation import RegressionEvaluator"
      ],
      "execution_count": 6,
      "outputs": []
    },
    {
      "cell_type": "markdown",
      "metadata": {
        "id": "In29Px7lg7Wd"
      },
      "source": [
        "# Initializing Spark Session as spark_session:"
      ]
    },
    {
      "cell_type": "code",
      "metadata": {
        "id": "ynFFyPIWg7Wd"
      },
      "source": [
        "spark_session = SparkSession.builder.appName(\"Sentiment-analysis\").master(\"local[4]\").getOrCreate()"
      ],
      "execution_count": 7,
      "outputs": []
    },
    {
      "cell_type": "markdown",
      "metadata": {
        "id": "-_rzGd0Eg7Wd"
      },
      "source": [
        "## loading Data:"
      ]
    },
    {
      "cell_type": "code",
      "metadata": {
        "id": "0IN5HArDg7Wd"
      },
      "source": [
        "df_train = pd.read_csv(\"Train (1).csv\")\n",
        "df_valid = pd.read_csv(\"Valid.csv\")\n",
        "df_test  = pd.read_csv(\"Test (1).csv\")"
      ],
      "execution_count": 9,
      "outputs": []
    },
    {
      "cell_type": "markdown",
      "metadata": {
        "id": "i_Skk0QGCGJz"
      },
      "source": [
        "## Drop null values "
      ]
    },
    {
      "cell_type": "code",
      "metadata": {
        "id": "SLydeETjCOcW"
      },
      "source": [
        "df_train = spark_session.createDataFrame(df_train).dropna()\n",
        "df_test  = spark_session.createDataFrame(df_test).dropna()\n",
        "df_valid = spark_session.createDataFrame(df_valid).dropna()"
      ],
      "execution_count": 11,
      "outputs": []
    },
    {
      "cell_type": "markdown",
      "metadata": {
        "id": "WSZTUCc5g7Wf"
      },
      "source": [
        "## Number of rows in each file:"
      ]
    },
    {
      "cell_type": "code",
      "metadata": {
        "id": "vIrHzQ1Fg7Wf",
        "colab": {
          "base_uri": "https://localhost:8080/"
        },
        "outputId": "6683dce8-41fb-495c-b57e-1b28c1077240"
      },
      "source": [
        "print(\"Train dataframe:\",df_train.count())\n",
        "print(\"Test dataframe:\",df_test.count())\n",
        "print(\"Validation dataframe:\",df_valid.count())"
      ],
      "execution_count": 12,
      "outputs": [
        {
          "output_type": "stream",
          "text": [
            "Train dataframe: 40000\n",
            "Test dataframe: 5000\n",
            "Validation dataframe: 5000\n"
          ],
          "name": "stdout"
        }
      ]
    },
    {
      "cell_type": "markdown",
      "metadata": {
        "id": "D8rqIBBHBvEQ"
      },
      "source": [
        "# Pre-processing:"
      ]
    },
    {
      "cell_type": "markdown",
      "metadata": {
        "id": "B8TQAZrWg7Wf"
      },
      "source": [
        "Extracting text and removing special characters"
      ]
    },
    {
      "cell_type": "code",
      "metadata": {
        "id": "Nx3F3xLDg7Wf"
      },
      "source": [
        "df_train = df_train.withColumn('text', regexp_replace('text',r\"[^0-9a-zA-Z]+\", \" \"))\\\n",
        "                        .withColumn('text', lower(col(\"text\")))\\\n",
        "                        .withColumn('text', regexp_replace('text',r\"\\b\\d+\\b\", \"\"))\n",
        "\n"
      ],
      "execution_count": 13,
      "outputs": []
    },
    {
      "cell_type": "code",
      "metadata": {
        "id": "u-Or9OCxg7Wg"
      },
      "source": [
        "df_test = df_test.withColumn('text', regexp_replace('text',r\"[^0-9a-zA-Z]+\", \" \"))\\\n",
        "                        .withColumn('text', lower(col(\"text\")))\\\n",
        "                        .withColumn('text', regexp_replace('text',r\"\\b\\d+\\b\", \"\"))"
      ],
      "execution_count": 14,
      "outputs": []
    },
    {
      "cell_type": "code",
      "metadata": {
        "id": "ssJ1hUZXg7Wg"
      },
      "source": [
        "df_valid = df_valid.withColumn('text', regexp_replace('text',r\"[^0-9a-zA-Z]+\", \" \"))\\\n",
        "                        .withColumn('text', lower(col(\"text\")))\\\n",
        "                        .withColumn('text', regexp_replace('text',r\"\\b\\d+\\b\", \"\")) "
      ],
      "execution_count": 15,
      "outputs": []
    },
    {
      "cell_type": "markdown",
      "metadata": {
        "id": "E713-CE6g7Wh"
      },
      "source": [
        "### Downloading stopwords:"
      ]
    },
    {
      "cell_type": "markdown",
      "metadata": {
        "id": "183oUNQsVn46"
      },
      "source": [
        "This list of English stop words is taken from the \"Glasgow Information\n",
        "Retrieval Group\". The original list can be found at\n",
        "http://ir.dcs.gla.ac.uk/resources/linguistic_utils/stop_words\n",
        "\n",
        "---\n",
        "\n"
      ]
    },
    {
      "cell_type": "code",
      "metadata": {
        "id": "o4XU__21g7Wh"
      },
      "source": [
        "stop_words = requests.get('http://ir.dcs.gla.ac.uk/resources/linguistic_utils/stop_words').text.split()"
      ],
      "execution_count": 16,
      "outputs": []
    },
    {
      "cell_type": "markdown",
      "metadata": {
        "id": "rHdxQAfAg7Wh"
      },
      "source": [
        "### Removing stop words:"
      ]
    },
    {
      "cell_type": "markdown",
      "metadata": {
        "id": "FFYY3v8tZHLf"
      },
      "source": [
        "StopWordsRemover is a Transformer takes a String array of words and returns a String array after removing all the defined stop words."
      ]
    },
    {
      "cell_type": "code",
      "metadata": {
        "id": "-acSM-Ucg7Wh"
      },
      "source": [
        "remove_stopwords = StopWordsRemover(inputCol=\"words\", outputCol=\"filtered_words\", stopWords=stop_words, caseSensitive=False)"
      ],
      "execution_count": 17,
      "outputs": []
    },
    {
      "cell_type": "markdown",
      "metadata": {
        "id": "oSYTTHk-g7Wi"
      },
      "source": [
        "# Building the model"
      ]
    },
    {
      "cell_type": "markdown",
      "metadata": {
        "id": "zlpVIobsUF1D"
      },
      "source": [
        "Here we will perform the Sentiment Analysis"
      ]
    },
    {
      "cell_type": "code",
      "metadata": {
        "id": "UYTFZbL_g7Wh"
      },
      "source": [
        "# A regex based tokenizer that extracts tokens either by using the provided regex pattern to split the text\n",
        "tokenizer = RegexTokenizer(gaps= False, pattern='\\\\p{L}+', inputCol=\"text\", outputCol=\"words\", toLowercase=True)\n",
        "# Convert a collection of text documents to a matrix of token counts\n",
        "cv = CountVectorizer(minTF=1.0, minDF=1.0, vocabSize=2**17, inputCol=\"filtered_words\", outputCol=\"tf\")\n",
        "# Takes feature vectors and scales each feature. Intuitively, it down-weights features that appear frequently in a corpus.\n",
        "idf = IDF( minDocFreq=0, inputCol='tf', outputCol='tfidf') \n",
        "lr = LogisticRegression(featuresCol='tfidf',labelCol='label',regParam= 0.01, elasticNetParam=0.5,maxIter=100 )\n",
        "# The pipeline used as a single instance of a complete model.\n",
        "pipeline = Pipeline(stages=[tokenizer, remove_stopwords, cv, idf,lr])"
      ],
      "execution_count": 18,
      "outputs": []
    },
    {
      "cell_type": "markdown",
      "metadata": {
        "id": "50NWAwJwg7Wj"
      },
      "source": [
        "## Fitting and transform the trained model"
      ]
    },
    {
      "cell_type": "code",
      "metadata": {
        "id": "12rxXLmlg7Wj"
      },
      "source": [
        "fit_model = pipeline.fit(df_train)\n",
        "validation = fit_model.transform(df_valid)"
      ],
      "execution_count": 20,
      "outputs": []
    },
    {
      "cell_type": "markdown",
      "metadata": {
        "id": "UcNvdQ4Ng7Wk"
      },
      "source": [
        "# Measure the performance of the model"
      ]
    },
    {
      "cell_type": "markdown",
      "metadata": {
        "id": "2jltaRCHh6Th"
      },
      "source": [
        "Showing the table of labels and predictions of the trained model"
      ]
    },
    {
      "cell_type": "code",
      "metadata": {
        "id": "dqTWc6hzg7Wk",
        "colab": {
          "base_uri": "https://localhost:8080/"
        },
        "outputId": "f13c2832-92ea-4cbb-d309-d8d303774caf"
      },
      "source": [
        "validation.select(\"text\",\"label\",\"prediction\").show()"
      ],
      "execution_count": 21,
      "outputs": [
        {
          "output_type": "stream",
          "text": [
            "+--------------------+-----+----------+\n",
            "|                text|label|prediction|\n",
            "+--------------------+-----+----------+\n",
            "|it s been about  ...|    0|       0.0|\n",
            "|someone needed to...|    0|       0.0|\n",
            "|the guidelines st...|    0|       0.0|\n",
            "|this movie is a m...|    0|       0.0|\n",
            "|before stan laure...|    0|       0.0|\n",
            "|this is the best ...|    1|       1.0|\n",
            "|the morbid cathol...|    1|       1.0|\n",
            "| semana santa or ...|    0|       0.0|\n",
            "|somebody mastered...|    1|       1.0|\n",
            "|why did i waste  ...|    0|       0.0|\n",
            "|this film takes y...|    1|       1.0|\n",
            "|the russian space...|    0|       0.0|\n",
            "|the more i think ...|    0|       0.0|\n",
            "|this is very date...|    1|       1.0|\n",
            "|i had seen kalifo...|    1|       1.0|\n",
            "|a powerful adapta...|    1|       1.0|\n",
            "|this movie s orig...|    1|       1.0|\n",
            "|i really enjoyed ...|    0|       0.0|\n",
            "|hi everyone oh bo...|    0|       0.0|\n",
            "|it takes a while ...|    1|       1.0|\n",
            "+--------------------+-----+----------+\n",
            "only showing top 20 rows\n",
            "\n"
          ],
          "name": "stdout"
        }
      ]
    },
    {
      "cell_type": "markdown",
      "metadata": {
        "id": "uIrblDs7iJgv"
      },
      "source": [
        "Measuring the RMSE of the trained model"
      ]
    },
    {
      "cell_type": "code",
      "metadata": {
        "id": "0P8LZzZVg7Wk",
        "colab": {
          "base_uri": "https://localhost:8080/"
        },
        "outputId": "4af58067-3530-4736-8525-fbe659bfb5f4"
      },
      "source": [
        "evaluator = RegressionEvaluator(labelCol='label',predictionCol='prediction')\n",
        "print(\"RMSE:\",evaluator.evaluate(validation))"
      ],
      "execution_count": 22,
      "outputs": [
        {
          "output_type": "stream",
          "text": [
            "RMSE: 0.363868107973205\n"
          ],
          "name": "stdout"
        }
      ]
    },
    {
      "cell_type": "markdown",
      "metadata": {
        "id": "s0hzbehTjOC8"
      },
      "source": [
        "The range of the RMSE is between 0 and 1. When the RMSE is lower (or near to Zero) indicates a good result. "
      ]
    },
    {
      "cell_type": "markdown",
      "metadata": {
        "id": "T9yiqwBUg7Wl"
      },
      "source": [
        "## Make a prediction on the test set "
      ]
    },
    {
      "cell_type": "code",
      "metadata": {
        "id": "yOL8W_PPg7Wl",
        "colab": {
          "base_uri": "https://localhost:8080/"
        },
        "outputId": "241c7ef9-78c3-49d8-af12-6b03a8c6ae26"
      },
      "source": [
        "predictions = fit_model.transform(df_test)\n",
        "predictions.select(\"text\",\"label\",\"prediction\").show()"
      ],
      "execution_count": 23,
      "outputs": [
        {
          "output_type": "stream",
          "text": [
            "+--------------------+-----+----------+\n",
            "|                text|label|prediction|\n",
            "+--------------------+-----+----------+\n",
            "|i always wrote th...|    0|       1.0|\n",
            "|1st watched     o...|    0|       0.0|\n",
            "|this movie was so...|    0|       0.0|\n",
            "|the most interest...|    1|       0.0|\n",
            "|when i first read...|    0|       0.0|\n",
            "|i saw this film o...|    1|       1.0|\n",
            "|i saw a screening...|    0|       0.0|\n",
            "|william hurt may ...|    1|       0.0|\n",
            "|it is a piece of ...|    0|       0.0|\n",
            "|i m bout it  br b...|    0|       0.0|\n",
            "|i had a recent sp...|    0|       0.0|\n",
            "|i really enjoyed ...|    1|       1.0|\n",
            "|didn t the writer...|    0|       0.0|\n",
            "|this movie was re...|    0|       0.0|\n",
            "|i think i watched...|    0|       0.0|\n",
            "|uwe boll has done...|    0|       0.0|\n",
            "|i felt asleep wat...|    0|       0.0|\n",
            "|brass pictures mo...|    0|       1.0|\n",
            "|my interest was r...|    1|       1.0|\n",
            "|pity the monkees ...|    1|       1.0|\n",
            "+--------------------+-----+----------+\n",
            "only showing top 20 rows\n",
            "\n"
          ],
          "name": "stdout"
        }
      ]
    },
    {
      "cell_type": "markdown",
      "metadata": {
        "id": "jcg8CCy8g7Wl"
      },
      "source": [
        "## Evaluating the test set "
      ]
    },
    {
      "cell_type": "code",
      "metadata": {
        "id": "h_TLY1gwg7Wm",
        "colab": {
          "base_uri": "https://localhost:8080/"
        },
        "outputId": "c76deeb1-ecb8-4476-dd15-c7cbc8aa7a50"
      },
      "source": [
        "evaluator = RegressionEvaluator(labelCol='label',predictionCol='prediction')\n",
        "print(\"RMSE:\",evaluator.evaluate(predictions))"
      ],
      "execution_count": 24,
      "outputs": [
        {
          "output_type": "stream",
          "text": [
            "RMSE: 0.35242020373412186\n"
          ],
          "name": "stdout"
        }
      ]
    },
    {
      "cell_type": "markdown",
      "metadata": {
        "id": "1KtmSQBEjpUa"
      },
      "source": [
        "The test set result similar to the trained model result, which indicates that it is a good prediction result. But, this is not enough metric to decide the model is good or not, we must evaluate other metrics. "
      ]
    },
    {
      "cell_type": "markdown",
      "metadata": {
        "id": "Dz3TUh8vPjo8"
      },
      "source": [
        "# References\n",
        "- Kim, R. (2018, March 14). Sentiment analysis with pyspark. Retrieved April 03, 2021, from https://towardsdatascience.com/sentiment-analysis-with-pyspark-bc8e83f80c35\n",
        "\n",
        "- VM@ai. (2020, May 12). Tokenizer &amp; REGEXTOKENIZER IN PySpark. Retrieved April 03, 2021, from https://medium.com/@harinata.0624/tokenizer-regextokenizer-in-pyspark-51a7c9b33132\n",
        "\n",
        "- Fan, T. (2019, October 25). MNT Make modules private in feature_extraction_stop_words. Retrieved April 03, 2021, from https://github.com/scikit-learn/scikit-learn/blob/main/sklearn/feature_extraction/_stop_words.py\n",
        "\n",
        "- Karim, M. R., &amp; Alla, S. (2017). Scala and Spark for big data analytics: Explore the concepts of functional programming, data streaming, and machine learning. Birmingham: Packt Publishing.\n",
        "\n",
        "- Bengfort, B., Bilbro, R., &amp; Ojeda, T. (n.d.). Applied text analysis with python. Retrieved April 03, 2021, from https://www.oreilly.com/library/view/applied-text-analysis/9781491963036/ch04.html\n",
        "\n",
        "- Li, S. (2018, May 07). Building a linear regression With PySpark and mllib. Retrieved April 03, 2021, from https://towardsdatascience.com/building-a-linear-regression-with-pyspark-and-mllib-d065c3ba246a\n"
      ]
    }
  ]
}